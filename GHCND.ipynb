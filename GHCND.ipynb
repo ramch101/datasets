{
 "cells": [
  {
   "cell_type": "markdown",
   "metadata": {},
   "source": [
    "#Analysis of Weather Data\n",
    "#In the next section we load the data from the csv file and view the 5 rows. We also convert the date column to a date time data type."
   ]
  },
  {
   "cell_type": "code",
   "execution_count": 150,
   "metadata": {
    "collapsed": false
   },
   "outputs": [
    {
     "data": {
      "text/html": [
       "<div>\n",
       "<table border=\"1\" class=\"dataframe\">\n",
       "  <thead>\n",
       "    <tr style=\"text-align: right;\">\n",
       "      <th></th>\n",
       "      <th>STATION</th>\n",
       "      <th>STATION_NAME</th>\n",
       "      <th>DATE</th>\n",
       "      <th>MDPR</th>\n",
       "      <th>DAPR</th>\n",
       "      <th>PRCP</th>\n",
       "      <th>TMAX</th>\n",
       "      <th>TMIN</th>\n",
       "      <th>TOBS</th>\n",
       "    </tr>\n",
       "  </thead>\n",
       "  <tbody>\n",
       "    <tr>\n",
       "      <th>0</th>\n",
       "      <td>GHCND:USR0000CTHO</td>\n",
       "      <td>THOMES CREEK CALIFORNIA CA US</td>\n",
       "      <td>2014-01-01</td>\n",
       "      <td>-9999</td>\n",
       "      <td>-9999</td>\n",
       "      <td>-9999</td>\n",
       "      <td>217</td>\n",
       "      <td>83</td>\n",
       "      <td>-9999</td>\n",
       "    </tr>\n",
       "    <tr>\n",
       "      <th>1</th>\n",
       "      <td>GHCND:USR0000CTHO</td>\n",
       "      <td>THOMES CREEK CALIFORNIA CA US</td>\n",
       "      <td>2014-01-02</td>\n",
       "      <td>-9999</td>\n",
       "      <td>-9999</td>\n",
       "      <td>-9999</td>\n",
       "      <td>217</td>\n",
       "      <td>72</td>\n",
       "      <td>-9999</td>\n",
       "    </tr>\n",
       "    <tr>\n",
       "      <th>2</th>\n",
       "      <td>GHCND:USR0000CTHO</td>\n",
       "      <td>THOMES CREEK CALIFORNIA CA US</td>\n",
       "      <td>2014-01-03</td>\n",
       "      <td>-9999</td>\n",
       "      <td>-9999</td>\n",
       "      <td>-9999</td>\n",
       "      <td>206</td>\n",
       "      <td>78</td>\n",
       "      <td>-9999</td>\n",
       "    </tr>\n",
       "    <tr>\n",
       "      <th>3</th>\n",
       "      <td>GHCND:USR0000CTHO</td>\n",
       "      <td>THOMES CREEK CALIFORNIA CA US</td>\n",
       "      <td>2014-01-04</td>\n",
       "      <td>-9999</td>\n",
       "      <td>-9999</td>\n",
       "      <td>-9999</td>\n",
       "      <td>206</td>\n",
       "      <td>94</td>\n",
       "      <td>-9999</td>\n",
       "    </tr>\n",
       "    <tr>\n",
       "      <th>4</th>\n",
       "      <td>GHCND:USR0000CTHO</td>\n",
       "      <td>THOMES CREEK CALIFORNIA CA US</td>\n",
       "      <td>2014-01-05</td>\n",
       "      <td>-9999</td>\n",
       "      <td>-9999</td>\n",
       "      <td>-9999</td>\n",
       "      <td>206</td>\n",
       "      <td>100</td>\n",
       "      <td>-9999</td>\n",
       "    </tr>\n",
       "  </tbody>\n",
       "</table>\n",
       "</div>"
      ],
      "text/plain": [
       "             STATION                   STATION_NAME       DATE  MDPR  DAPR  \\\n",
       "0  GHCND:USR0000CTHO  THOMES CREEK CALIFORNIA CA US 2014-01-01 -9999 -9999   \n",
       "1  GHCND:USR0000CTHO  THOMES CREEK CALIFORNIA CA US 2014-01-02 -9999 -9999   \n",
       "2  GHCND:USR0000CTHO  THOMES CREEK CALIFORNIA CA US 2014-01-03 -9999 -9999   \n",
       "3  GHCND:USR0000CTHO  THOMES CREEK CALIFORNIA CA US 2014-01-04 -9999 -9999   \n",
       "4  GHCND:USR0000CTHO  THOMES CREEK CALIFORNIA CA US 2014-01-05 -9999 -9999   \n",
       "\n",
       "   PRCP  TMAX  TMIN  TOBS  \n",
       "0 -9999   217    83 -9999  \n",
       "1 -9999   217    72 -9999  \n",
       "2 -9999   206    78 -9999  \n",
       "3 -9999   206    94 -9999  \n",
       "4 -9999   206   100 -9999  "
      ]
     },
     "execution_count": 150,
     "metadata": {},
     "output_type": "execute_result"
    }
   ],
   "source": [
    "import pandas as pd\n",
    "import numpy as np\n",
    "import matplotlib.pyplot as plt\n",
    "%matplotlib inline\n",
    "from pandasql import *\n",
    "\n",
    "df = pd.read_csv('598354.csv',parse_dates=[2])\n",
    "df.head()\n"
   ]
  },
  {
   "cell_type": "markdown",
   "metadata": {},
   "source": [
    "#We run a sql command to find the minimum and maximum temprature for the there cities."
   ]
  },
  {
   "cell_type": "code",
   "execution_count": 151,
   "metadata": {
    "collapsed": false
   },
   "outputs": [
    {
     "data": {
      "text/html": [
       "<div>\n",
       "<table border=\"1\" class=\"dataframe\">\n",
       "  <thead>\n",
       "    <tr style=\"text-align: right;\">\n",
       "      <th></th>\n",
       "      <th>STATION_NAME</th>\n",
       "      <th>TMIN</th>\n",
       "      <th>TMAX</th>\n",
       "    </tr>\n",
       "  </thead>\n",
       "  <tbody>\n",
       "    <tr>\n",
       "      <th>0</th>\n",
       "      <td>BLYTHE AIRPORT CA US</td>\n",
       "      <td>-9999</td>\n",
       "      <td>483</td>\n",
       "    </tr>\n",
       "    <tr>\n",
       "      <th>1</th>\n",
       "      <td>DEATH VALLEY CA US</td>\n",
       "      <td>-9999</td>\n",
       "      <td>522</td>\n",
       "    </tr>\n",
       "    <tr>\n",
       "      <th>2</th>\n",
       "      <td>EL CENTRO NAF CA US</td>\n",
       "      <td>-9999</td>\n",
       "      <td>483</td>\n",
       "    </tr>\n",
       "  </tbody>\n",
       "</table>\n",
       "</div>"
      ],
      "text/plain": [
       "           STATION_NAME  TMIN  TMAX\n",
       "0  BLYTHE AIRPORT CA US -9999   483\n",
       "1    DEATH VALLEY CA US -9999   522\n",
       "2   EL CENTRO NAF CA US -9999   483"
      ]
     },
     "execution_count": 151,
     "metadata": {},
     "output_type": "execute_result"
    }
   ],
   "source": [
    "pysqldf = lambda q: sqldf(q, globals())\n",
    "\n",
    "q = \"\"\"\n",
    "select \n",
    "      station_name,  min(TMIN) TMIN , max(TMAX) TMAX \n",
    "from df\n",
    "    where station in ('GHCND:USC00042319','GHCND:USW00023158','GHCND:USW00023199' )\n",
    "    group by STATION_NAME\n",
    "\"\"\"\n",
    "df1 =  sqldf(q, locals())\n",
    "\n",
    "df1.head()\n",
    "\n"
   ]
  },
  {
   "cell_type": "code",
   "execution_count": 152,
   "metadata": {
    "collapsed": false
   },
   "outputs": [
    {
     "data": {
      "text/plain": [
       "<matplotlib.axes._subplots.AxesSubplot at 0x7f3fe5469510>"
      ]
     },
     "execution_count": 152,
     "metadata": {},
     "output_type": "execute_result"
    },
    {
     "data": {
      "image/png": "[encoded data removed]",
      "text/plain": [
       "<matplotlib.figure.Figure at 0x7f3fe5447110>"
      ]
     },
     "metadata": {},
     "output_type": "display_data"
    }
   ],
   "source": [
    "df1.plot(kind='bar', stacked= True, x=df1.STATION_NAME, title='Temprature variations by station')"
   ]
  },
  {
   "cell_type": "markdown",
   "metadata": {},
   "source": [
    "We plot the information and find that there is a wide range in the minimum tempratue in the three cities, we should porably explore if these are outliers."
   ]
  },
  {
   "cell_type": "code",
   "execution_count": 153,
   "metadata": {
    "collapsed": false
   },
   "outputs": [
    {
     "data": {
      "text/html": [
       "<div>\n",
       "<table border=\"1\" class=\"dataframe\">\n",
       "  <thead>\n",
       "    <tr style=\"text-align: right;\">\n",
       "      <th></th>\n",
       "      <th>MDPR</th>\n",
       "      <th>DAPR</th>\n",
       "      <th>PRCP</th>\n",
       "      <th>TMAX</th>\n",
       "      <th>TMIN</th>\n",
       "      <th>TOBS</th>\n",
       "    </tr>\n",
       "  </thead>\n",
       "  <tbody>\n",
       "    <tr>\n",
       "      <th>count</th>\n",
       "      <td>324603.000000</td>\n",
       "      <td>324603.000000</td>\n",
       "      <td>324603.000000</td>\n",
       "      <td>324603.000000</td>\n",
       "      <td>324603.000000</td>\n",
       "      <td>324603.000000</td>\n",
       "    </tr>\n",
       "    <tr>\n",
       "      <th>mean</th>\n",
       "      <td>-9987.802654</td>\n",
       "      <td>-9987.937628</td>\n",
       "      <td>-2627.986858</td>\n",
       "      <td>-4196.863486</td>\n",
       "      <td>-4302.559465</td>\n",
       "      <td>-7994.314609</td>\n",
       "    </tr>\n",
       "    <tr>\n",
       "      <th>std</th>\n",
       "      <td>336.641271</td>\n",
       "      <td>332.458684</td>\n",
       "      <td>4414.731354</td>\n",
       "      <td>5068.378252</td>\n",
       "      <td>5003.690138</td>\n",
       "      <td>4039.251616</td>\n",
       "    </tr>\n",
       "    <tr>\n",
       "      <th>min</th>\n",
       "      <td>-9999.000000</td>\n",
       "      <td>-9999.000000</td>\n",
       "      <td>-9999.000000</td>\n",
       "      <td>-9999.000000</td>\n",
       "      <td>-9999.000000</td>\n",
       "      <td>-9999.000000</td>\n",
       "    </tr>\n",
       "    <tr>\n",
       "      <th>5%</th>\n",
       "      <td>-9999.000000</td>\n",
       "      <td>-9999.000000</td>\n",
       "      <td>-9999.000000</td>\n",
       "      <td>-9999.000000</td>\n",
       "      <td>-9999.000000</td>\n",
       "      <td>-9999.000000</td>\n",
       "    </tr>\n",
       "    <tr>\n",
       "      <th>25%</th>\n",
       "      <td>-9999.000000</td>\n",
       "      <td>-9999.000000</td>\n",
       "      <td>-9999.000000</td>\n",
       "      <td>-9999.000000</td>\n",
       "      <td>-9999.000000</td>\n",
       "      <td>-9999.000000</td>\n",
       "    </tr>\n",
       "    <tr>\n",
       "      <th>50%</th>\n",
       "      <td>-9999.000000</td>\n",
       "      <td>-9999.000000</td>\n",
       "      <td>0.000000</td>\n",
       "      <td>128.000000</td>\n",
       "      <td>6.000000</td>\n",
       "      <td>-9999.000000</td>\n",
       "    </tr>\n",
       "    <tr>\n",
       "      <th>75%</th>\n",
       "      <td>-9999.000000</td>\n",
       "      <td>-9999.000000</td>\n",
       "      <td>0.000000</td>\n",
       "      <td>244.000000</td>\n",
       "      <td>106.000000</td>\n",
       "      <td>-9999.000000</td>\n",
       "    </tr>\n",
       "    <tr>\n",
       "      <th>95%</th>\n",
       "      <td>-9999.000000</td>\n",
       "      <td>-9999.000000</td>\n",
       "      <td>53.000000</td>\n",
       "      <td>350.000000</td>\n",
       "      <td>183.000000</td>\n",
       "      <td>211.000000</td>\n",
       "    </tr>\n",
       "    <tr>\n",
       "      <th>max</th>\n",
       "      <td>2543.000000</td>\n",
       "      <td>30.000000</td>\n",
       "      <td>12344.000000</td>\n",
       "      <td>650.000000</td>\n",
       "      <td>583.000000</td>\n",
       "      <td>461.000000</td>\n",
       "    </tr>\n",
       "  </tbody>\n",
       "</table>\n",
       "</div>"
      ],
      "text/plain": [
       "                MDPR           DAPR           PRCP           TMAX  \\\n",
       "count  324603.000000  324603.000000  324603.000000  324603.000000   \n",
       "mean    -9987.802654   -9987.937628   -2627.986858   -4196.863486   \n",
       "std       336.641271     332.458684    4414.731354    5068.378252   \n",
       "min     -9999.000000   -9999.000000   -9999.000000   -9999.000000   \n",
       "5%      -9999.000000   -9999.000000   -9999.000000   -9999.000000   \n",
       "25%     -9999.000000   -9999.000000   -9999.000000   -9999.000000   \n",
       "50%     -9999.000000   -9999.000000       0.000000     128.000000   \n",
       "75%     -9999.000000   -9999.000000       0.000000     244.000000   \n",
       "95%     -9999.000000   -9999.000000      53.000000     350.000000   \n",
       "max      2543.000000      30.000000   12344.000000     650.000000   \n",
       "\n",
       "                TMIN           TOBS  \n",
       "count  324603.000000  324603.000000  \n",
       "mean    -4302.559465   -7994.314609  \n",
       "std      5003.690138    4039.251616  \n",
       "min     -9999.000000   -9999.000000  \n",
       "5%      -9999.000000   -9999.000000  \n",
       "25%     -9999.000000   -9999.000000  \n",
       "50%         6.000000   -9999.000000  \n",
       "75%       106.000000   -9999.000000  \n",
       "95%       183.000000     211.000000  \n",
       "max       583.000000     461.000000  "
      ]
     },
     "execution_count": 153,
     "metadata": {},
     "output_type": "execute_result"
    }
   ],
   "source": [
    "df.ix[::2] = np.nan\n",
    "df.describe(percentiles=[.05, .25, .75, .95])"
   ]
  },
  {
   "cell_type": "markdown",
   "metadata": {},
   "source": [
    "    # We go ahead and plot the total rainfall in June 2015"
   ]
  },
  {
   "cell_type": "code",
   "execution_count": 133,
   "metadata": {
    "collapsed": false
   },
   "outputs": [
    {
     "data": {
      "text/html": [
       "<div>\n",
       "<table border=\"1\" class=\"dataframe\">\n",
       "  <thead>\n",
       "    <tr style=\"text-align: right;\">\n",
       "      <th></th>\n",
       "      <th>STATION_NAME</th>\n",
       "      <th>total_rain</th>\n",
       "    </tr>\n",
       "  </thead>\n",
       "  <tbody>\n",
       "    <tr>\n",
       "      <th>0</th>\n",
       "      <td>BLYTHE AIRPORT CA US</td>\n",
       "      <td>10</td>\n",
       "    </tr>\n",
       "    <tr>\n",
       "      <th>1</th>\n",
       "      <td>DEATH VALLEY CA US</td>\n",
       "      <td>0</td>\n",
       "    </tr>\n",
       "    <tr>\n",
       "      <th>2</th>\n",
       "      <td>EL CENTRO NAF CA US</td>\n",
       "      <td>0</td>\n",
       "    </tr>\n",
       "  </tbody>\n",
       "</table>\n",
       "</div>"
      ],
      "text/plain": [
       "           STATION_NAME  total_rain\n",
       "0  BLYTHE AIRPORT CA US          10\n",
       "1    DEATH VALLEY CA US           0\n",
       "2   EL CENTRO NAF CA US           0"
      ]
     },
     "execution_count": 133,
     "metadata": {},
     "output_type": "execute_result"
    }
   ],
   "source": [
    "pysqldf = lambda q: sqldf(q, globals())\n",
    "\n",
    "q = \"\"\"\n",
    "select \n",
    "      station_name,  sum(PRCP) total_rain \n",
    "from df\n",
    "    where station in ('GHCND:USC00042319','GHCND:USW00023158','GHCND:USW00023199' ) and\n",
    "    date between '2015-06-01' and '2015-07-01'\n",
    "    group by STATION_NAME\n",
    "\"\"\"\n",
    "df2 =  sqldf(q, locals())\n",
    "\n",
    "df2.head()\n"
   ]
  },
  {
   "cell_type": "code",
   "execution_count": 136,
   "metadata": {
    "collapsed": false
   },
   "outputs": [
    {
     "data": {
      "text/plain": [
       "<matplotlib.axes._subplots.AxesSubplot at 0x7f3fef9503d0>"
      ]
     },
     "execution_count": 136,
     "metadata": {},
     "output_type": "execute_result"
    },
    {
     "data": {
      "image/png": "[encoded data removed]",
      "text/plain": [
       "<matplotlib.figure.Figure at 0x7f3ff4d1f1d0>"
      ]
     },
     "metadata": {},
     "output_type": "display_data"
    }
   ],
   "source": [
    "df2.plot(kind='bar', stacked= False, x=df1.STATION_NAME, title='Total Rain in June 2015 by station')"
   ]
  },
  {
   "cell_type": "code",
   "execution_count": null,
   "metadata": {
    "collapsed": true
   },
   "outputs": [],
   "source": []
  }
 ],
 "metadata": {
  "kernelspec": {
   "display_name": "Python 2",
   "language": "python",
   "name": "python2"
  },
  "language_info": {
   "codemirror_mode": {
    "name": "ipython",
    "version": 2
   },
   "file_extension": ".py",
   "mimetype": "text/x-python",
   "name": "python",
   "nbconvert_exporter": "python",
   "pygments_lexer": "ipython2",
   "version": "2.7.9"
  },
  "name": "GHCND.ipynb"
 },
 "nbformat": 4,
 "nbformat_minor": 0
}
